{
 "cells": [
  {
   "cell_type": "code",
   "execution_count": 1,
   "metadata": {},
   "outputs": [
    {
     "name": "stdout",
     "output_type": "stream",
     "text": [
      "['Amazon', 'backup', 'Cook2012.csv', 'Cook2013.csv', 'df_items.csv', 'df_metadata.csv', 'df_reviews.csv', 'user_sim_matrix.pickle']\n"
     ]
    }
   ],
   "source": [
    "import os\n",
    "print(os.listdir(\"./input/\"))"
   ]
  },
  {
   "cell_type": "code",
   "execution_count": 2,
   "metadata": {},
   "outputs": [
    {
     "name": "stdout",
     "output_type": "stream",
     "text": [
      "Created `%t` as an alias for `%timeit`.\n",
      "Created `%%t` as an alias for `%%timeit`.\n"
     ]
    }
   ],
   "source": [
    "# Ignore  the warnings\n",
    "import warnings\n",
    "warnings.filterwarnings('always')\n",
    "warnings.filterwarnings('ignore')\n",
    "\n",
    "\n",
    "# data visualisation and manipulation\n",
    "import numpy as np\n",
    "import pandas as pd\n",
    "from matplotlib import style\n",
    "import matplotlib.pyplot as plt \n",
    "import seaborn as sns\n",
    "\n",
    "# Sklearn package for evaluating model performance\n",
    "from sklearn import metrics\n",
    "\n",
    "# Euclidean distance\n",
    "from scipy import spatial\n",
    "\n",
    "# import custom helper methods\n",
    "from helpers.helper import (\n",
    "    format_json,\n",
    "    to_csv,\n",
    "    load_metadata,\n",
    "    load_reviews,\n",
    "    load_pickle,\n",
    "    save_pickle,\n",
    "    clean_category,\n",
    "    extract_digits,\n",
    "    clean_also_buy,\n",
    "    clean_also_view,\n",
    "    clean_price,\n",
    "    clean_metadata_df,\n",
    "    load_dataframes,\n",
    "    save_dataframes,\n",
    "    n_times_rated_items,\n",
    "    n_times_rated_users,\n",
    "    get_num_user_ratings,\n",
    "    train_test_split,\n",
    "    get_sparsity,\n",
    "    similarity,\n",
    "    get_reviews,\n",
    "    compute_correlation_dist,\n",
    "    get_items_seen,\n",
    "    create_reviewer_item_dict,\n",
    "    compute_user_sim_matrix,\n",
    "    recommend_items,\n",
    "    predict_user_rating,\n",
    ")\n",
    "\n",
    "# Progressbar\n",
    "import progressbar\n",
    "\n",
    "# configuring plots\n",
    "plot_kwds = {'alpha' : 0.25, 's' : 80, 'linewidths':0}\n",
    "\n",
    "# Matplotlib config\n",
    "%matplotlib inline\n",
    "\n",
    "# creating an alias for timeit\n",
    "%alias_magic t timeit"
   ]
  },
  {
   "cell_type": "code",
   "execution_count": 3,
   "metadata": {},
   "outputs": [],
   "source": [
    "# Install simplejson\n",
    "# !pip install simplejson\n",
    "# !pip install progressbar"
   ]
  },
  {
   "cell_type": "code",
   "execution_count": 4,
   "metadata": {},
   "outputs": [],
   "source": [
    "# Data description can be found at https://snap.stanford.edu/data/web-Amazon.html\n",
    "z_metadata = \"./input/Amazon/meta_Books.json.gz\"\n",
    "z_reviews = \"./input/Amazon/Books_5.json.gz\"\n",
    "\n",
    "f_metadata = \"./input/Amazon/meta_Books.json\"\n",
    "f_reviews = \"./input/Amazon/Books_5.json\"\n",
    "\n",
    "CSV_METADATA = \"./input/df_metadata.csv\"\n",
    "CSV_REVIEWS = \"./input/df_reviews.csv\"\n",
    "CSV_ITEMS = \"./input/df_items.csv\""
   ]
  },
  {
   "cell_type": "code",
   "execution_count": 5,
   "metadata": {},
   "outputs": [],
   "source": [
    "# df_metadata = load_metadata(f_metadata)\n",
    "# df_reviews = load_reviews(f_reviews)"
   ]
  },
  {
   "cell_type": "code",
   "execution_count": 6,
   "metadata": {},
   "outputs": [],
   "source": [
    "# df_reviews.head()"
   ]
  },
  {
   "cell_type": "markdown",
   "metadata": {},
   "source": [
    "In order to understand our data, we need to look at each variable and try to understand their meaning and relevance to this problem"
   ]
  },
  {
   "cell_type": "code",
   "execution_count": 7,
   "metadata": {},
   "outputs": [],
   "source": [
    "# df_metadata.head()"
   ]
  },
  {
   "cell_type": "code",
   "execution_count": 8,
   "metadata": {},
   "outputs": [],
   "source": [
    "# df_metadata = clean_metadata_df(df_metadata)"
   ]
  },
  {
   "cell_type": "markdown",
   "metadata": {},
   "source": [
    "This better describes the feature we'd Rename the feature `Overall` to `rating` "
   ]
  },
  {
   "cell_type": "code",
   "execution_count": 9,
   "metadata": {},
   "outputs": [],
   "source": [
    "# load dataframes\n",
    "df_metadata, df_reviews, df_items = load_dataframes(\n",
    "    metadata_file=CSV_METADATA,\n",
    "    reviews_file=CSV_REVIEWS,\n",
    "    items_file=CSV_ITEMS\n",
    ")"
   ]
  },
  {
   "cell_type": "code",
   "execution_count": 10,
   "metadata": {},
   "outputs": [],
   "source": [
    "# save dataframes to file for backup\n",
    "# save_dataframes()"
   ]
  },
  {
   "cell_type": "markdown",
   "metadata": {},
   "source": [
    "## Monitoring Memory usage by dataframes"
   ]
  },
  {
   "cell_type": "code",
   "execution_count": 11,
   "metadata": {},
   "outputs": [
    {
     "name": "stdout",
     "output_type": "stream",
     "text": [
      "<class 'pandas.core.frame.DataFrame'>\n",
      "RangeIndex: 2934949 entries, 0 to 2934948\n",
      "Data columns (total 7 columns):\n",
      " #   Column     Dtype  \n",
      "---  ------     -----  \n",
      " 0   category   object \n",
      " 1   title      object \n",
      " 2   rank       object \n",
      " 3   also_buy   object \n",
      " 4   also_view  object \n",
      " 5   price      float64\n",
      " 6   asin       object \n",
      "dtypes: float64(1), object(6)\n",
      "memory usage: 1.7 GB\n"
     ]
    }
   ],
   "source": [
    "df_metadata.info(memory_usage=\"deep\")"
   ]
  },
  {
   "cell_type": "code",
   "execution_count": 12,
   "metadata": {},
   "outputs": [
    {
     "name": "stdout",
     "output_type": "stream",
     "text": [
      "<class 'pandas.core.frame.DataFrame'>\n",
      "RangeIndex: 27164983 entries, 0 to 27164982\n",
      "Data columns (total 4 columns):\n",
      " #   Column          Dtype  \n",
      "---  ------          -----  \n",
      " 0   rating          float64\n",
      " 1   reviewerID      object \n",
      " 2   asin            object \n",
      " 3   unixReviewTime  int64  \n",
      "dtypes: float64(1), int64(1), object(2)\n",
      "memory usage: 3.9 GB\n"
     ]
    }
   ],
   "source": [
    "df_reviews.info(memory_usage=\"deep\")"
   ]
  },
  {
   "cell_type": "code",
   "execution_count": 13,
   "metadata": {},
   "outputs": [
    {
     "name": "stdout",
     "output_type": "stream",
     "text": [
      "<class 'pandas.core.frame.DataFrame'>\n",
      "RangeIndex: 704273 entries, 0 to 704272\n",
      "Data columns (total 4 columns):\n",
      " #   Column      Non-Null Count   Dtype  \n",
      "---  ------      --------------   -----  \n",
      " 0   asin        704273 non-null  object \n",
      " 1   avg_rating  704273 non-null  float64\n",
      " 2   num_rating  704273 non-null  int64  \n",
      " 3   title       704174 non-null  object \n",
      "dtypes: float64(1), int64(1), object(2)\n",
      "memory usage: 127.3 MB\n"
     ]
    }
   ],
   "source": [
    "df_items.info(memory_usage=\"deep\")"
   ]
  },
  {
   "cell_type": "markdown",
   "metadata": {},
   "source": [
    "## Visualizing ratings"
   ]
  },
  {
   "cell_type": "code",
   "execution_count": 14,
   "metadata": {},
   "outputs": [
    {
     "data": {
      "image/png": "[encoded data removed]",
      "text/plain": [
       "<Figure size 432x288 with 1 Axes>"
      ]
     },
     "metadata": {
      "needs_background": "light"
     },
     "output_type": "display_data"
    }
   ],
   "source": [
    "hist_num_rating = df_items.num_rating.hist(bins=5, range=(1, 200), color='#8338EC')"
   ]
  },
  {
   "cell_type": "code",
   "execution_count": 15,
   "metadata": {},
   "outputs": [
    {
     "data": {
      "text/plain": [
       "28975"
      ]
     },
     "execution_count": 15,
     "metadata": {},
     "output_type": "execute_result"
    }
   ],
   "source": [
    "df_items.num_rating.max()"
   ]
  },
  {
   "cell_type": "code",
   "execution_count": 16,
   "metadata": {},
   "outputs": [
    {
     "data": {
      "image/png": "[encoded data removed]",
      "text/plain": [
       "<Figure size 432x288 with 1 Axes>"
      ]
     },
     "metadata": {
      "needs_background": "light"
     },
     "output_type": "display_data"
    }
   ],
   "source": [
    "hist_avg_rating = df_items.avg_rating.hist(bins=5, label='Average rating', color='#C64191')"
   ]
  },
  {
   "cell_type": "markdown",
   "metadata": {},
   "source": [
    "## Feature Engineering: \n",
    "Now we can try to pull relevant information out of the existing columns.\n",
    "\n",
    "For each of the datasets, there are a couple of cleaning & feature engineering we would have to perform:\n",
    "\n",
    "__Items__\n",
    "- Remove users with less than 500 ratings\n",
    "\n",
    "__Reviews__\n",
    "- Remove review whose Id deosn't exist anymore "
   ]
  },
  {
   "cell_type": "code",
   "execution_count": 17,
   "metadata": {},
   "outputs": [
    {
     "data": {
      "text/html": [
       "<div>\n",
       "<style scoped>\n",
       "    .dataframe tbody tr th:only-of-type {\n",
       "        vertical-align: middle;\n",
       "    }\n",
       "\n",
       "    .dataframe tbody tr th {\n",
       "        vertical-align: top;\n",
       "    }\n",
       "\n",
       "    .dataframe thead th {\n",
       "        text-align: right;\n",
       "    }\n",
       "</style>\n",
       "<table border=\"1\" class=\"dataframe\">\n",
       "  <thead>\n",
       "    <tr style=\"text-align: right;\">\n",
       "      <th></th>\n",
       "      <th>reviewerID</th>\n",
       "      <th>num_ratings</th>\n",
       "    </tr>\n",
       "  </thead>\n",
       "  <tbody>\n",
       "    <tr>\n",
       "      <th>1846674</th>\n",
       "      <td>AZA4P71MTSJXB</td>\n",
       "      <td>5</td>\n",
       "    </tr>\n",
       "    <tr>\n",
       "      <th>725708</th>\n",
       "      <td>A2H9817X7Z56ZH</td>\n",
       "      <td>5</td>\n",
       "    </tr>\n",
       "  </tbody>\n",
       "</table>\n",
       "</div>"
      ],
      "text/plain": [
       "             reviewerID  num_ratings\n",
       "1846674   AZA4P71MTSJXB            5\n",
       "725708   A2H9817X7Z56ZH            5"
      ]
     },
     "execution_count": 17,
     "metadata": {},
     "output_type": "execute_result"
    }
   ],
   "source": [
    "# get number of ratings for each user\n",
    "df_num_user_ratings = get_num_user_ratings(df_reviews)\n",
    "# print the top 2 rows from the dataframe\n",
    "df_num_user_ratings.sample(2)"
   ]
  },
  {
   "cell_type": "code",
   "execution_count": 18,
   "metadata": {},
   "outputs": [
    {
     "data": {
      "text/plain": [
       "(1856344, 2)"
      ]
     },
     "execution_count": 18,
     "metadata": {},
     "output_type": "execute_result"
    }
   ],
   "source": [
    "df_num_user_ratings.shape"
   ]
  },
  {
   "cell_type": "code",
   "execution_count": 19,
   "metadata": {},
   "outputs": [],
   "source": [
    "# shrink dataframes to include only data for >=500 ratings per user \n",
    "df_num_user_ratings, df_reviews, df_items, df_metadata = n_times_rated_users(\n",
    "    df_num_user_ratings=df_num_user_ratings,\n",
    "    min_ratings=500,\n",
    "    df_reviews=df_reviews,\n",
    "    df_items=df_items,\n",
    "    df_metadata=df_metadata\n",
    ")"
   ]
  },
  {
   "cell_type": "code",
   "execution_count": 20,
   "metadata": {},
   "outputs": [],
   "source": [
    "# shrink dataframes to include only data for >=500 ratings per item\n",
    "df_num_ratings, df_reviews, df_items, df_metadata = n_times_rated_items(\n",
    "    min_ratings=500,\n",
    "    df_reviews=df_reviews,\n",
    "    df_items=df_items,\n",
    "    df_metadata=df_metadata\n",
    ")"
   ]
  },
  {
   "cell_type": "code",
   "execution_count": 21,
   "metadata": {},
   "outputs": [
    {
     "data": {
      "text/plain": [
       "1542"
      ]
     },
     "execution_count": 21,
     "metadata": {},
     "output_type": "execute_result"
    }
   ],
   "source": [
    "df_reviews.reviewerID.nunique()"
   ]
  },
  {
   "cell_type": "code",
   "execution_count": 22,
   "metadata": {},
   "outputs": [
    {
     "data": {
      "text/plain": [
       "5427"
      ]
     },
     "execution_count": 22,
     "metadata": {},
     "output_type": "execute_result"
    }
   ],
   "source": [
    "df_reviews['asin'].nunique()"
   ]
  },
  {
   "cell_type": "code",
   "execution_count": 23,
   "metadata": {},
   "outputs": [
    {
     "data": {
      "text/plain": [
       "5427"
      ]
     },
     "execution_count": 23,
     "metadata": {},
     "output_type": "execute_result"
    }
   ],
   "source": [
    "df_items['asin'].nunique()"
   ]
  },
  {
   "cell_type": "code",
   "execution_count": 24,
   "metadata": {},
   "outputs": [
    {
     "data": {
      "text/plain": [
       "(5435, 7)"
      ]
     },
     "execution_count": 24,
     "metadata": {},
     "output_type": "execute_result"
    }
   ],
   "source": [
    "df_metadata.shape"
   ]
  },
  {
   "cell_type": "markdown",
   "metadata": {},
   "source": [
    "## Statistics"
   ]
  },
  {
   "cell_type": "code",
   "execution_count": 25,
   "metadata": {},
   "outputs": [
    {
     "name": "stdout",
     "output_type": "stream",
     "text": [
      "Number of users: 1542, Number of Items: 5427, Min rating: 1.0, Max rating: 5.0\n"
     ]
    }
   ],
   "source": [
    "num_users = len(df_reviews['reviewerID'].unique())\n",
    "num_items = len(df_reviews['asin'].unique())\n",
    "\n",
    "# min and max ratings will be used to normalize the ratings later\n",
    "min_rating = min(df_reviews[\"rating\"])\n",
    "max_rating = max(df_reviews[\"rating\"])\n",
    "\n",
    "print(\n",
    "    \"Number of users: {}, Number of Items: {}, Min rating: {}, Max rating: {}\".format(\n",
    "        num_users, num_items, min_rating, max_rating\n",
    "    )\n",
    ")"
   ]
  },
  {
   "cell_type": "markdown",
   "metadata": {},
   "source": [
    "## Split test/train sample set"
   ]
  },
  {
   "cell_type": "code",
   "execution_count": 26,
   "metadata": {},
   "outputs": [
    {
     "name": "stderr",
     "output_type": "stream",
     "text": [
      " [Elapsed Time: 0:00:21] |###################################| (Time: 0:00:21) \n"
     ]
    }
   ],
   "source": [
    "train, test = train_test_split(df_reviews, seed=1, test_size=0.10)"
   ]
  },
  {
   "cell_type": "code",
   "execution_count": 27,
   "metadata": {},
   "outputs": [],
   "source": [
    "# train.reviewerID.nunique()"
   ]
  },
  {
   "cell_type": "code",
   "execution_count": 28,
   "metadata": {},
   "outputs": [],
   "source": [
    "# save_pickle(train, 'train.pickle')\n",
    "# save_pickle(test, 'test.pickle')"
   ]
  },
  {
   "cell_type": "code",
   "execution_count": 29,
   "metadata": {},
   "outputs": [],
   "source": [
    "# train = load_pickle('./input/backup/train.pickle')\n",
    "# test = load_pickle('./input/backup/test.pickle')"
   ]
  },
  {
   "cell_type": "code",
   "execution_count": 30,
   "metadata": {},
   "outputs": [
    {
     "data": {
      "text/html": [
       "<div>\n",
       "<style scoped>\n",
       "    .dataframe tbody tr th:only-of-type {\n",
       "        vertical-align: middle;\n",
       "    }\n",
       "\n",
       "    .dataframe tbody tr th {\n",
       "        vertical-align: top;\n",
       "    }\n",
       "\n",
       "    .dataframe thead th {\n",
       "        text-align: right;\n",
       "    }\n",
       "</style>\n",
       "<table border=\"1\" class=\"dataframe\">\n",
       "  <thead>\n",
       "    <tr style=\"text-align: right;\">\n",
       "      <th></th>\n",
       "      <th>rating</th>\n",
       "      <th>reviewerID</th>\n",
       "      <th>asin</th>\n",
       "      <th>unixReviewTime</th>\n",
       "    </tr>\n",
       "  </thead>\n",
       "  <tbody>\n",
       "    <tr>\n",
       "      <th>1560</th>\n",
       "      <td>3.0</td>\n",
       "      <td>A4SKIA2A7IDRX</td>\n",
       "      <td>0001720392</td>\n",
       "      <td>1.473984e+09</td>\n",
       "    </tr>\n",
       "    <tr>\n",
       "      <th>1575</th>\n",
       "      <td>5.0</td>\n",
       "      <td>ALYZJ7W14YS26</td>\n",
       "      <td>0001720392</td>\n",
       "      <td>1.469923e+09</td>\n",
       "    </tr>\n",
       "    <tr>\n",
       "      <th>1644</th>\n",
       "      <td>5.0</td>\n",
       "      <td>A1IYIOEZS24REF</td>\n",
       "      <td>0001720392</td>\n",
       "      <td>1.454803e+09</td>\n",
       "    </tr>\n",
       "    <tr>\n",
       "      <th>1704</th>\n",
       "      <td>5.0</td>\n",
       "      <td>A3OQWHOUM0U0QH</td>\n",
       "      <td>0001720392</td>\n",
       "      <td>1.440893e+09</td>\n",
       "    </tr>\n",
       "    <tr>\n",
       "      <th>1709</th>\n",
       "      <td>5.0</td>\n",
       "      <td>AZRPAHQG1VHR0</td>\n",
       "      <td>0001720392</td>\n",
       "      <td>1.439856e+09</td>\n",
       "    </tr>\n",
       "  </tbody>\n",
       "</table>\n",
       "</div>"
      ],
      "text/plain": [
       "      rating      reviewerID        asin  unixReviewTime\n",
       "1560     3.0   A4SKIA2A7IDRX  0001720392    1.473984e+09\n",
       "1575     5.0   ALYZJ7W14YS26  0001720392    1.469923e+09\n",
       "1644     5.0  A1IYIOEZS24REF  0001720392    1.454803e+09\n",
       "1704     5.0  A3OQWHOUM0U0QH  0001720392    1.440893e+09\n",
       "1709     5.0   AZRPAHQG1VHR0  0001720392    1.439856e+09"
      ]
     },
     "execution_count": 30,
     "metadata": {},
     "output_type": "execute_result"
    }
   ],
   "source": [
    "train.head()"
   ]
  },
  {
   "cell_type": "code",
   "execution_count": 31,
   "metadata": {},
   "outputs": [
    {
     "data": {
      "text/html": [
       "<div>\n",
       "<style scoped>\n",
       "    .dataframe tbody tr th:only-of-type {\n",
       "        vertical-align: middle;\n",
       "    }\n",
       "\n",
       "    .dataframe tbody tr th {\n",
       "        vertical-align: top;\n",
       "    }\n",
       "\n",
       "    .dataframe thead th {\n",
       "        text-align: right;\n",
       "    }\n",
       "</style>\n",
       "<table border=\"1\" class=\"dataframe\">\n",
       "  <thead>\n",
       "    <tr style=\"text-align: right;\">\n",
       "      <th></th>\n",
       "      <th>rating</th>\n",
       "      <th>reviewerID</th>\n",
       "      <th>asin</th>\n",
       "      <th>unixReviewTime</th>\n",
       "    </tr>\n",
       "  </thead>\n",
       "  <tbody>\n",
       "    <tr>\n",
       "      <th>319957</th>\n",
       "      <td>5.0</td>\n",
       "      <td>A4SKIA2A7IDRX</td>\n",
       "      <td>0007491557</td>\n",
       "      <td>1414281600</td>\n",
       "    </tr>\n",
       "    <tr>\n",
       "      <th>2263016</th>\n",
       "      <td>5.0</td>\n",
       "      <td>A4SKIA2A7IDRX</td>\n",
       "      <td>0141335734</td>\n",
       "      <td>1325808000</td>\n",
       "    </tr>\n",
       "    <tr>\n",
       "      <th>4976183</th>\n",
       "      <td>5.0</td>\n",
       "      <td>A4SKIA2A7IDRX</td>\n",
       "      <td>0356501558</td>\n",
       "      <td>1399593600</td>\n",
       "    </tr>\n",
       "    <tr>\n",
       "      <th>15206002</th>\n",
       "      <td>2.0</td>\n",
       "      <td>A4SKIA2A7IDRX</td>\n",
       "      <td>1480054542</td>\n",
       "      <td>1426636800</td>\n",
       "    </tr>\n",
       "    <tr>\n",
       "      <th>6382747</th>\n",
       "      <td>2.0</td>\n",
       "      <td>A4SKIA2A7IDRX</td>\n",
       "      <td>0425267067</td>\n",
       "      <td>1370044800</td>\n",
       "    </tr>\n",
       "  </tbody>\n",
       "</table>\n",
       "</div>"
      ],
      "text/plain": [
       "          rating     reviewerID        asin  unixReviewTime\n",
       "319957       5.0  A4SKIA2A7IDRX  0007491557      1414281600\n",
       "2263016      5.0  A4SKIA2A7IDRX  0141335734      1325808000\n",
       "4976183      5.0  A4SKIA2A7IDRX  0356501558      1399593600\n",
       "15206002     2.0  A4SKIA2A7IDRX  1480054542      1426636800\n",
       "6382747      2.0  A4SKIA2A7IDRX  0425267067      1370044800"
      ]
     },
     "execution_count": 31,
     "metadata": {},
     "output_type": "execute_result"
    }
   ],
   "source": [
    "test.head()"
   ]
  },
  {
   "cell_type": "markdown",
   "metadata": {},
   "source": [
    "# Collaborative Filtering\n",
    "\n",
    "__Similarity Based Methods__\n",
    "\n",
    "Here we are going to go predict of items from users that have similar taste as our user\n",
    "\n",
    "+ Measure user similarities\n",
    "+ Predict user rating of items\n",
    "+ Normalize the ratings"
   ]
  },
  {
   "cell_type": "code",
   "execution_count": 32,
   "metadata": {},
   "outputs": [],
   "source": [
    "# df_reviews = train"
   ]
  },
  {
   "cell_type": "markdown",
   "metadata": {},
   "source": [
    "## Creating pivot table using numpy's pivot method"
   ]
  },
  {
   "cell_type": "code",
   "execution_count": 33,
   "metadata": {
    "scrolled": true
   },
   "outputs": [
    {
     "name": "stdout",
     "output_type": "stream",
     "text": [
      "Wall time: 1.37 s\n"
     ]
    },
    {
     "data": {
      "text/html": [
       "<div>\n",
       "<style scoped>\n",
       "    .dataframe tbody tr th:only-of-type {\n",
       "        vertical-align: middle;\n",
       "    }\n",
       "\n",
       "    .dataframe tbody tr th {\n",
       "        vertical-align: top;\n",
       "    }\n",
       "\n",
       "    .dataframe thead th {\n",
       "        text-align: right;\n",
       "    }\n",
       "</style>\n",
       "<table border=\"1\" class=\"dataframe\">\n",
       "  <thead>\n",
       "    <tr style=\"text-align: right;\">\n",
       "      <th>asin</th>\n",
       "      <th>000100039X</th>\n",
       "      <th>0001048767</th>\n",
       "      <th>0001050230</th>\n",
       "      <th>0001720295</th>\n",
       "      <th>0001720392</th>\n",
       "      <th>0001844423</th>\n",
       "      <th>0001945424</th>\n",
       "      <th>0001951076</th>\n",
       "      <th>0002005549</th>\n",
       "      <th>0002005883</th>\n",
       "      <th>...</th>\n",
       "      <th>B01CFIEXIY</th>\n",
       "      <th>B01CIYURJE</th>\n",
       "      <th>B01CSGVA8Y</th>\n",
       "      <th>B01ENNQ274</th>\n",
       "      <th>B01ENU0V5Q</th>\n",
       "      <th>B01FBZZNEG</th>\n",
       "      <th>B01FGM4H4Q</th>\n",
       "      <th>B01FMVUECK</th>\n",
       "      <th>B01FN30OBS</th>\n",
       "      <th>B01HB9Q7CW</th>\n",
       "    </tr>\n",
       "    <tr>\n",
       "      <th>reviewerID</th>\n",
       "      <th></th>\n",
       "      <th></th>\n",
       "      <th></th>\n",
       "      <th></th>\n",
       "      <th></th>\n",
       "      <th></th>\n",
       "      <th></th>\n",
       "      <th></th>\n",
       "      <th></th>\n",
       "      <th></th>\n",
       "      <th></th>\n",
       "      <th></th>\n",
       "      <th></th>\n",
       "      <th></th>\n",
       "      <th></th>\n",
       "      <th></th>\n",
       "      <th></th>\n",
       "      <th></th>\n",
       "      <th></th>\n",
       "      <th></th>\n",
       "      <th></th>\n",
       "    </tr>\n",
       "  </thead>\n",
       "  <tbody>\n",
       "    <tr>\n",
       "      <th>A103KWX1QFCG6I</th>\n",
       "      <td>0</td>\n",
       "      <td>0.0</td>\n",
       "      <td>0.0</td>\n",
       "      <td>0.0</td>\n",
       "      <td>0</td>\n",
       "      <td>0.0</td>\n",
       "      <td>0</td>\n",
       "      <td>0</td>\n",
       "      <td>0</td>\n",
       "      <td>0</td>\n",
       "      <td>...</td>\n",
       "      <td>0</td>\n",
       "      <td>0</td>\n",
       "      <td>0</td>\n",
       "      <td>0</td>\n",
       "      <td>0</td>\n",
       "      <td>0</td>\n",
       "      <td>0</td>\n",
       "      <td>0</td>\n",
       "      <td>0</td>\n",
       "      <td>0</td>\n",
       "    </tr>\n",
       "    <tr>\n",
       "      <th>A103M7E0BSFC83</th>\n",
       "      <td>0</td>\n",
       "      <td>0.0</td>\n",
       "      <td>0.0</td>\n",
       "      <td>0.0</td>\n",
       "      <td>0</td>\n",
       "      <td>0.0</td>\n",
       "      <td>0</td>\n",
       "      <td>0</td>\n",
       "      <td>0</td>\n",
       "      <td>0</td>\n",
       "      <td>...</td>\n",
       "      <td>0</td>\n",
       "      <td>0</td>\n",
       "      <td>0</td>\n",
       "      <td>0</td>\n",
       "      <td>0</td>\n",
       "      <td>0</td>\n",
       "      <td>0</td>\n",
       "      <td>0</td>\n",
       "      <td>0</td>\n",
       "      <td>0</td>\n",
       "    </tr>\n",
       "    <tr>\n",
       "      <th>A108M62RB1HTC0</th>\n",
       "      <td>0</td>\n",
       "      <td>0.0</td>\n",
       "      <td>0.0</td>\n",
       "      <td>0.0</td>\n",
       "      <td>0</td>\n",
       "      <td>0.0</td>\n",
       "      <td>0</td>\n",
       "      <td>0</td>\n",
       "      <td>0</td>\n",
       "      <td>0</td>\n",
       "      <td>...</td>\n",
       "      <td>0</td>\n",
       "      <td>0</td>\n",
       "      <td>0</td>\n",
       "      <td>0</td>\n",
       "      <td>0</td>\n",
       "      <td>0</td>\n",
       "      <td>0</td>\n",
       "      <td>0</td>\n",
       "      <td>0</td>\n",
       "      <td>0</td>\n",
       "    </tr>\n",
       "    <tr>\n",
       "      <th>A1098Z3D7ENJ2F</th>\n",
       "      <td>0</td>\n",
       "      <td>0.0</td>\n",
       "      <td>0.0</td>\n",
       "      <td>0.0</td>\n",
       "      <td>0</td>\n",
       "      <td>0.0</td>\n",
       "      <td>0</td>\n",
       "      <td>0</td>\n",
       "      <td>0</td>\n",
       "      <td>0</td>\n",
       "      <td>...</td>\n",
       "      <td>0</td>\n",
       "      <td>0</td>\n",
       "      <td>0</td>\n",
       "      <td>0</td>\n",
       "      <td>0</td>\n",
       "      <td>0</td>\n",
       "      <td>0</td>\n",
       "      <td>0</td>\n",
       "      <td>0</td>\n",
       "      <td>0</td>\n",
       "    </tr>\n",
       "    <tr>\n",
       "      <th>A10DX94ATZQEFG</th>\n",
       "      <td>0</td>\n",
       "      <td>0.0</td>\n",
       "      <td>0.0</td>\n",
       "      <td>0.0</td>\n",
       "      <td>0</td>\n",
       "      <td>0.0</td>\n",
       "      <td>0</td>\n",
       "      <td>0</td>\n",
       "      <td>0</td>\n",
       "      <td>0</td>\n",
       "      <td>...</td>\n",
       "      <td>0</td>\n",
       "      <td>0</td>\n",
       "      <td>0</td>\n",
       "      <td>0</td>\n",
       "      <td>0</td>\n",
       "      <td>0</td>\n",
       "      <td>0</td>\n",
       "      <td>0</td>\n",
       "      <td>0</td>\n",
       "      <td>0</td>\n",
       "    </tr>\n",
       "  </tbody>\n",
       "</table>\n",
       "<p>5 rows × 5427 columns</p>\n",
       "</div>"
      ],
      "text/plain": [
       "asin            000100039X  0001048767  0001050230  0001720295  0001720392  \\\n",
       "reviewerID                                                                   \n",
       "A103KWX1QFCG6I           0         0.0         0.0         0.0           0   \n",
       "A103M7E0BSFC83           0         0.0         0.0         0.0           0   \n",
       "A108M62RB1HTC0           0         0.0         0.0         0.0           0   \n",
       "A1098Z3D7ENJ2F           0         0.0         0.0         0.0           0   \n",
       "A10DX94ATZQEFG           0         0.0         0.0         0.0           0   \n",
       "\n",
       "asin            0001844423  0001945424  0001951076  0002005549  0002005883  \\\n",
       "reviewerID                                                                   \n",
       "A103KWX1QFCG6I         0.0           0           0           0           0   \n",
       "A103M7E0BSFC83         0.0           0           0           0           0   \n",
       "A108M62RB1HTC0         0.0           0           0           0           0   \n",
       "A1098Z3D7ENJ2F         0.0           0           0           0           0   \n",
       "A10DX94ATZQEFG         0.0           0           0           0           0   \n",
       "\n",
       "asin            ...  B01CFIEXIY  B01CIYURJE  B01CSGVA8Y  B01ENNQ274  \\\n",
       "reviewerID      ...                                                   \n",
       "A103KWX1QFCG6I  ...           0           0           0           0   \n",
       "A103M7E0BSFC83  ...           0           0           0           0   \n",
       "A108M62RB1HTC0  ...           0           0           0           0   \n",
       "A1098Z3D7ENJ2F  ...           0           0           0           0   \n",
       "A10DX94ATZQEFG  ...           0           0           0           0   \n",
       "\n",
       "asin            B01ENU0V5Q  B01FBZZNEG  B01FGM4H4Q  B01FMVUECK  B01FN30OBS  \\\n",
       "reviewerID                                                                   \n",
       "A103KWX1QFCG6I           0           0           0           0           0   \n",
       "A103M7E0BSFC83           0           0           0           0           0   \n",
       "A108M62RB1HTC0           0           0           0           0           0   \n",
       "A1098Z3D7ENJ2F           0           0           0           0           0   \n",
       "A10DX94ATZQEFG           0           0           0           0           0   \n",
       "\n",
       "asin            B01HB9Q7CW  \n",
       "reviewerID                  \n",
       "A103KWX1QFCG6I           0  \n",
       "A103M7E0BSFC83           0  \n",
       "A108M62RB1HTC0           0  \n",
       "A1098Z3D7ENJ2F           0  \n",
       "A10DX94ATZQEFG           0  \n",
       "\n",
       "[5 rows x 5427 columns]"
      ]
     },
     "execution_count": 33,
     "metadata": {},
     "output_type": "execute_result"
    }
   ],
   "source": [
    "# Creating pivot table using numpy's pivot method\n",
    "%time reviewer_by_item = df_reviews.pivot_table(index='reviewerID', columns='asin', values='rating', aggfunc='mean', fill_value=0.0)\n",
    "reviewer_by_item.head()"
   ]
  },
  {
   "cell_type": "markdown",
   "metadata": {},
   "source": [
    "### This is a peculiar case where a user has rated an item more than once"
   ]
  },
  {
   "cell_type": "markdown",
   "metadata": {},
   "source": [
    "+ To handle such cases we'd get the 'mean' values across a user rating of a particular item\n",
    "+ we also check to see wheter a user has rated an item above the 5.0 tier rating"
   ]
  },
  {
   "cell_type": "code",
   "execution_count": 34,
   "metadata": {},
   "outputs": [
    {
     "data": {
      "text/html": [
       "<div>\n",
       "<style scoped>\n",
       "    .dataframe tbody tr th:only-of-type {\n",
       "        vertical-align: middle;\n",
       "    }\n",
       "\n",
       "    .dataframe tbody tr th {\n",
       "        vertical-align: top;\n",
       "    }\n",
       "\n",
       "    .dataframe thead th {\n",
       "        text-align: right;\n",
       "    }\n",
       "</style>\n",
       "<table border=\"1\" class=\"dataframe\">\n",
       "  <thead>\n",
       "    <tr style=\"text-align: right;\">\n",
       "      <th></th>\n",
       "      <th>rating</th>\n",
       "      <th>reviewerID</th>\n",
       "      <th>asin</th>\n",
       "      <th>unixReviewTime</th>\n",
       "    </tr>\n",
       "  </thead>\n",
       "  <tbody>\n",
       "    <tr>\n",
       "      <th>17980</th>\n",
       "      <td>5.0</td>\n",
       "      <td>A13G1TKIKHGV3F</td>\n",
       "      <td>0001048767</td>\n",
       "      <td>1467417600</td>\n",
       "    </tr>\n",
       "    <tr>\n",
       "      <th>17985</th>\n",
       "      <td>5.0</td>\n",
       "      <td>A13G1TKIKHGV3F</td>\n",
       "      <td>0001048767</td>\n",
       "      <td>1467244800</td>\n",
       "    </tr>\n",
       "    <tr>\n",
       "      <th>18414</th>\n",
       "      <td>5.0</td>\n",
       "      <td>A13G1TKIKHGV3F</td>\n",
       "      <td>0001048767</td>\n",
       "      <td>1452470400</td>\n",
       "    </tr>\n",
       "    <tr>\n",
       "      <th>18428</th>\n",
       "      <td>4.0</td>\n",
       "      <td>A13G1TKIKHGV3F</td>\n",
       "      <td>0001048767</td>\n",
       "      <td>1452124800</td>\n",
       "    </tr>\n",
       "  </tbody>\n",
       "</table>\n",
       "</div>"
      ],
      "text/plain": [
       "       rating      reviewerID        asin  unixReviewTime\n",
       "17980     5.0  A13G1TKIKHGV3F  0001048767      1467417600\n",
       "17985     5.0  A13G1TKIKHGV3F  0001048767      1467244800\n",
       "18414     5.0  A13G1TKIKHGV3F  0001048767      1452470400\n",
       "18428     4.0  A13G1TKIKHGV3F  0001048767      1452124800"
      ]
     },
     "execution_count": 34,
     "metadata": {},
     "output_type": "execute_result"
    }
   ],
   "source": [
    "df_reviews[df_reviews.reviewerID == 'A13G1TKIKHGV3F'][df_reviews.asin == '0001048767']"
   ]
  },
  {
   "cell_type": "code",
   "execution_count": 35,
   "metadata": {},
   "outputs": [
    {
     "data": {
      "text/html": [
       "<div>\n",
       "<style scoped>\n",
       "    .dataframe tbody tr th:only-of-type {\n",
       "        vertical-align: middle;\n",
       "    }\n",
       "\n",
       "    .dataframe tbody tr th {\n",
       "        vertical-align: top;\n",
       "    }\n",
       "\n",
       "    .dataframe thead th {\n",
       "        text-align: right;\n",
       "    }\n",
       "</style>\n",
       "<table border=\"1\" class=\"dataframe\">\n",
       "  <thead>\n",
       "    <tr style=\"text-align: right;\">\n",
       "      <th></th>\n",
       "      <th>rating</th>\n",
       "      <th>reviewerID</th>\n",
       "      <th>asin</th>\n",
       "      <th>unixReviewTime</th>\n",
       "    </tr>\n",
       "  </thead>\n",
       "  <tbody>\n",
       "  </tbody>\n",
       "</table>\n",
       "</div>"
      ],
      "text/plain": [
       "Empty DataFrame\n",
       "Columns: [rating, reviewerID, asin, unixReviewTime]\n",
       "Index: []"
      ]
     },
     "execution_count": 35,
     "metadata": {},
     "output_type": "execute_result"
    }
   ],
   "source": [
    "df_reviews[df_reviews.rating > 5]"
   ]
  },
  {
   "cell_type": "code",
   "execution_count": 36,
   "metadata": {},
   "outputs": [],
   "source": [
    "# # Fill NaNs with zeros\n",
    "# reviewer_by_item.fillna(0, inplace=True)\n",
    "# reviewer_by_item.head()"
   ]
  },
  {
   "cell_type": "markdown",
   "metadata": {},
   "source": [
    "## Calculate sparsity\n",
    "\n",
    "_sparsity = num of null values/total num of values_"
   ]
  },
  {
   "cell_type": "code",
   "execution_count": 37,
   "metadata": {},
   "outputs": [
    {
     "name": "stdout",
     "output_type": "stream",
     "text": [
      "The percentage sparsity of the dataset is 1.58%\n"
     ]
    }
   ],
   "source": [
    "print('The percentage sparsity of the dataset is {:4.2f}%'.format(get_sparsity(reviewer_by_item, df_reviews)))\n"
   ]
  },
  {
   "cell_type": "markdown",
   "metadata": {},
   "source": [
    "## Create User x User matrix"
   ]
  },
  {
   "cell_type": "code",
   "execution_count": 38,
   "metadata": {},
   "outputs": [
    {
     "name": "stderr",
     "output_type": "stream",
     "text": [
      " [Elapsed Time: 0:00:09] |###################################| (Time: 0:00:09) \n"
     ]
    }
   ],
   "source": [
    "items_seen = create_reviewer_item_dict(reviewer_by_item, df_reviews)"
   ]
  },
  {
   "cell_type": "code",
   "execution_count": 39,
   "metadata": {},
   "outputs": [
    {
     "data": {
      "text/plain": [
       "(1542, 2)"
      ]
     },
     "execution_count": 39,
     "metadata": {},
     "output_type": "execute_result"
    }
   ],
   "source": [
    "# Creating pivot table using numpy's pivot method\n",
    "\n",
    "_user_by_user = pd.DataFrame()\n",
    "_user_by_user['user_i'] = train['reviewerID'].unique()\n",
    "_user_by_user['user_j'] = train['reviewerID'].unique()\n",
    "\n",
    "_user_by_user.shape"
   ]
  },
  {
   "cell_type": "code",
   "execution_count": 40,
   "metadata": {},
   "outputs": [
    {
     "name": "stdout",
     "output_type": "stream",
     "text": [
      "Wall time: 19 ms\n"
     ]
    }
   ],
   "source": [
    "# create user x user pivot table using pandas pivot_table\n",
    "%time user_by_user = _user_by_user.groupby(['user_i','user_j']).apply(lambda x: 0).unstack()"
   ]
  },
  {
   "cell_type": "code",
   "execution_count": 41,
   "metadata": {},
   "outputs": [
    {
     "data": {
      "text/html": [
       "<div>\n",
       "<style scoped>\n",
       "    .dataframe tbody tr th:only-of-type {\n",
       "        vertical-align: middle;\n",
       "    }\n",
       "\n",
       "    .dataframe tbody tr th {\n",
       "        vertical-align: top;\n",
       "    }\n",
       "\n",
       "    .dataframe thead th {\n",
       "        text-align: right;\n",
       "    }\n",
       "</style>\n",
       "<table border=\"1\" class=\"dataframe\">\n",
       "  <thead>\n",
       "    <tr style=\"text-align: right;\">\n",
       "      <th>user_j</th>\n",
       "      <th>A103KWX1QFCG6I</th>\n",
       "      <th>A103M7E0BSFC83</th>\n",
       "      <th>A108M62RB1HTC0</th>\n",
       "      <th>A1098Z3D7ENJ2F</th>\n",
       "      <th>A10DX94ATZQEFG</th>\n",
       "      <th>A10IKHRUSMKP46</th>\n",
       "      <th>A10LKYQ1D8LPK8</th>\n",
       "      <th>A10PEXB6XAQ5XF</th>\n",
       "      <th>A10RAGCKPARNMI</th>\n",
       "      <th>A10SXQMQBJ2L</th>\n",
       "      <th>...</th>\n",
       "      <th>AYYIRXRLL0FZF</th>\n",
       "      <th>AZD8SMNGQI98O</th>\n",
       "      <th>AZFENNBSMN980</th>\n",
       "      <th>AZGDIB6UL3QNL</th>\n",
       "      <th>AZK12FBX7X7LN</th>\n",
       "      <th>AZPMV1PM3ISSL</th>\n",
       "      <th>AZPXI8VOPVK2E</th>\n",
       "      <th>AZRPAHQG1VHR0</th>\n",
       "      <th>AZTFBJTENKT1T</th>\n",
       "      <th>AZULU4TOTOLEU</th>\n",
       "    </tr>\n",
       "    <tr>\n",
       "      <th>user_i</th>\n",
       "      <th></th>\n",
       "      <th></th>\n",
       "      <th></th>\n",
       "      <th></th>\n",
       "      <th></th>\n",
       "      <th></th>\n",
       "      <th></th>\n",
       "      <th></th>\n",
       "      <th></th>\n",
       "      <th></th>\n",
       "      <th></th>\n",
       "      <th></th>\n",
       "      <th></th>\n",
       "      <th></th>\n",
       "      <th></th>\n",
       "      <th></th>\n",
       "      <th></th>\n",
       "      <th></th>\n",
       "      <th></th>\n",
       "      <th></th>\n",
       "      <th></th>\n",
       "    </tr>\n",
       "  </thead>\n",
       "  <tbody>\n",
       "    <tr>\n",
       "      <th>A103KWX1QFCG6I</th>\n",
       "      <td>0.0</td>\n",
       "      <td>NaN</td>\n",
       "      <td>NaN</td>\n",
       "      <td>NaN</td>\n",
       "      <td>NaN</td>\n",
       "      <td>NaN</td>\n",
       "      <td>NaN</td>\n",
       "      <td>NaN</td>\n",
       "      <td>NaN</td>\n",
       "      <td>NaN</td>\n",
       "      <td>...</td>\n",
       "      <td>NaN</td>\n",
       "      <td>NaN</td>\n",
       "      <td>NaN</td>\n",
       "      <td>NaN</td>\n",
       "      <td>NaN</td>\n",
       "      <td>NaN</td>\n",
       "      <td>NaN</td>\n",
       "      <td>NaN</td>\n",
       "      <td>NaN</td>\n",
       "      <td>NaN</td>\n",
       "    </tr>\n",
       "    <tr>\n",
       "      <th>A103M7E0BSFC83</th>\n",
       "      <td>NaN</td>\n",
       "      <td>0.0</td>\n",
       "      <td>NaN</td>\n",
       "      <td>NaN</td>\n",
       "      <td>NaN</td>\n",
       "      <td>NaN</td>\n",
       "      <td>NaN</td>\n",
       "      <td>NaN</td>\n",
       "      <td>NaN</td>\n",
       "      <td>NaN</td>\n",
       "      <td>...</td>\n",
       "      <td>NaN</td>\n",
       "      <td>NaN</td>\n",
       "      <td>NaN</td>\n",
       "      <td>NaN</td>\n",
       "      <td>NaN</td>\n",
       "      <td>NaN</td>\n",
       "      <td>NaN</td>\n",
       "      <td>NaN</td>\n",
       "      <td>NaN</td>\n",
       "      <td>NaN</td>\n",
       "    </tr>\n",
       "    <tr>\n",
       "      <th>A108M62RB1HTC0</th>\n",
       "      <td>NaN</td>\n",
       "      <td>NaN</td>\n",
       "      <td>0.0</td>\n",
       "      <td>NaN</td>\n",
       "      <td>NaN</td>\n",
       "      <td>NaN</td>\n",
       "      <td>NaN</td>\n",
       "      <td>NaN</td>\n",
       "      <td>NaN</td>\n",
       "      <td>NaN</td>\n",
       "      <td>...</td>\n",
       "      <td>NaN</td>\n",
       "      <td>NaN</td>\n",
       "      <td>NaN</td>\n",
       "      <td>NaN</td>\n",
       "      <td>NaN</td>\n",
       "      <td>NaN</td>\n",
       "      <td>NaN</td>\n",
       "      <td>NaN</td>\n",
       "      <td>NaN</td>\n",
       "      <td>NaN</td>\n",
       "    </tr>\n",
       "    <tr>\n",
       "      <th>A1098Z3D7ENJ2F</th>\n",
       "      <td>NaN</td>\n",
       "      <td>NaN</td>\n",
       "      <td>NaN</td>\n",
       "      <td>0.0</td>\n",
       "      <td>NaN</td>\n",
       "      <td>NaN</td>\n",
       "      <td>NaN</td>\n",
       "      <td>NaN</td>\n",
       "      <td>NaN</td>\n",
       "      <td>NaN</td>\n",
       "      <td>...</td>\n",
       "      <td>NaN</td>\n",
       "      <td>NaN</td>\n",
       "      <td>NaN</td>\n",
       "      <td>NaN</td>\n",
       "      <td>NaN</td>\n",
       "      <td>NaN</td>\n",
       "      <td>NaN</td>\n",
       "      <td>NaN</td>\n",
       "      <td>NaN</td>\n",
       "      <td>NaN</td>\n",
       "    </tr>\n",
       "    <tr>\n",
       "      <th>A10DX94ATZQEFG</th>\n",
       "      <td>NaN</td>\n",
       "      <td>NaN</td>\n",
       "      <td>NaN</td>\n",
       "      <td>NaN</td>\n",
       "      <td>0.0</td>\n",
       "      <td>NaN</td>\n",
       "      <td>NaN</td>\n",
       "      <td>NaN</td>\n",
       "      <td>NaN</td>\n",
       "      <td>NaN</td>\n",
       "      <td>...</td>\n",
       "      <td>NaN</td>\n",
       "      <td>NaN</td>\n",
       "      <td>NaN</td>\n",
       "      <td>NaN</td>\n",
       "      <td>NaN</td>\n",
       "      <td>NaN</td>\n",
       "      <td>NaN</td>\n",
       "      <td>NaN</td>\n",
       "      <td>NaN</td>\n",
       "      <td>NaN</td>\n",
       "    </tr>\n",
       "    <tr>\n",
       "      <th>...</th>\n",
       "      <td>...</td>\n",
       "      <td>...</td>\n",
       "      <td>...</td>\n",
       "      <td>...</td>\n",
       "      <td>...</td>\n",
       "      <td>...</td>\n",
       "      <td>...</td>\n",
       "      <td>...</td>\n",
       "      <td>...</td>\n",
       "      <td>...</td>\n",
       "      <td>...</td>\n",
       "      <td>...</td>\n",
       "      <td>...</td>\n",
       "      <td>...</td>\n",
       "      <td>...</td>\n",
       "      <td>...</td>\n",
       "      <td>...</td>\n",
       "      <td>...</td>\n",
       "      <td>...</td>\n",
       "      <td>...</td>\n",
       "      <td>...</td>\n",
       "    </tr>\n",
       "    <tr>\n",
       "      <th>A19I252AVVFU2S</th>\n",
       "      <td>NaN</td>\n",
       "      <td>NaN</td>\n",
       "      <td>NaN</td>\n",
       "      <td>NaN</td>\n",
       "      <td>NaN</td>\n",
       "      <td>NaN</td>\n",
       "      <td>NaN</td>\n",
       "      <td>NaN</td>\n",
       "      <td>NaN</td>\n",
       "      <td>NaN</td>\n",
       "      <td>...</td>\n",
       "      <td>NaN</td>\n",
       "      <td>NaN</td>\n",
       "      <td>NaN</td>\n",
       "      <td>NaN</td>\n",
       "      <td>NaN</td>\n",
       "      <td>NaN</td>\n",
       "      <td>NaN</td>\n",
       "      <td>NaN</td>\n",
       "      <td>NaN</td>\n",
       "      <td>NaN</td>\n",
       "    </tr>\n",
       "    <tr>\n",
       "      <th>A19I68RW4PBT29</th>\n",
       "      <td>NaN</td>\n",
       "      <td>NaN</td>\n",
       "      <td>NaN</td>\n",
       "      <td>NaN</td>\n",
       "      <td>NaN</td>\n",
       "      <td>NaN</td>\n",
       "      <td>NaN</td>\n",
       "      <td>NaN</td>\n",
       "      <td>NaN</td>\n",
       "      <td>NaN</td>\n",
       "      <td>...</td>\n",
       "      <td>NaN</td>\n",
       "      <td>NaN</td>\n",
       "      <td>NaN</td>\n",
       "      <td>NaN</td>\n",
       "      <td>NaN</td>\n",
       "      <td>NaN</td>\n",
       "      <td>NaN</td>\n",
       "      <td>NaN</td>\n",
       "      <td>NaN</td>\n",
       "      <td>NaN</td>\n",
       "    </tr>\n",
       "    <tr>\n",
       "      <th>A19KLUZ1XD3SRN</th>\n",
       "      <td>NaN</td>\n",
       "      <td>NaN</td>\n",
       "      <td>NaN</td>\n",
       "      <td>NaN</td>\n",
       "      <td>NaN</td>\n",
       "      <td>NaN</td>\n",
       "      <td>NaN</td>\n",
       "      <td>NaN</td>\n",
       "      <td>NaN</td>\n",
       "      <td>NaN</td>\n",
       "      <td>...</td>\n",
       "      <td>NaN</td>\n",
       "      <td>NaN</td>\n",
       "      <td>NaN</td>\n",
       "      <td>NaN</td>\n",
       "      <td>NaN</td>\n",
       "      <td>NaN</td>\n",
       "      <td>NaN</td>\n",
       "      <td>NaN</td>\n",
       "      <td>NaN</td>\n",
       "      <td>NaN</td>\n",
       "    </tr>\n",
       "    <tr>\n",
       "      <th>A19O53R0L0W4O7</th>\n",
       "      <td>NaN</td>\n",
       "      <td>NaN</td>\n",
       "      <td>NaN</td>\n",
       "      <td>NaN</td>\n",
       "      <td>NaN</td>\n",
       "      <td>NaN</td>\n",
       "      <td>NaN</td>\n",
       "      <td>NaN</td>\n",
       "      <td>NaN</td>\n",
       "      <td>NaN</td>\n",
       "      <td>...</td>\n",
       "      <td>NaN</td>\n",
       "      <td>NaN</td>\n",
       "      <td>NaN</td>\n",
       "      <td>NaN</td>\n",
       "      <td>NaN</td>\n",
       "      <td>NaN</td>\n",
       "      <td>NaN</td>\n",
       "      <td>NaN</td>\n",
       "      <td>NaN</td>\n",
       "      <td>NaN</td>\n",
       "    </tr>\n",
       "    <tr>\n",
       "      <th>A19Q59T3Y3WF1V</th>\n",
       "      <td>NaN</td>\n",
       "      <td>NaN</td>\n",
       "      <td>NaN</td>\n",
       "      <td>NaN</td>\n",
       "      <td>NaN</td>\n",
       "      <td>NaN</td>\n",
       "      <td>NaN</td>\n",
       "      <td>NaN</td>\n",
       "      <td>NaN</td>\n",
       "      <td>NaN</td>\n",
       "      <td>...</td>\n",
       "      <td>NaN</td>\n",
       "      <td>NaN</td>\n",
       "      <td>NaN</td>\n",
       "      <td>NaN</td>\n",
       "      <td>NaN</td>\n",
       "      <td>NaN</td>\n",
       "      <td>NaN</td>\n",
       "      <td>NaN</td>\n",
       "      <td>NaN</td>\n",
       "      <td>NaN</td>\n",
       "    </tr>\n",
       "  </tbody>\n",
       "</table>\n",
       "<p>100 rows × 1542 columns</p>\n",
       "</div>"
      ],
      "text/plain": [
       "user_j          A103KWX1QFCG6I  A103M7E0BSFC83  A108M62RB1HTC0  \\\n",
       "user_i                                                           \n",
       "A103KWX1QFCG6I             0.0             NaN             NaN   \n",
       "A103M7E0BSFC83             NaN             0.0             NaN   \n",
       "A108M62RB1HTC0             NaN             NaN             0.0   \n",
       "A1098Z3D7ENJ2F             NaN             NaN             NaN   \n",
       "A10DX94ATZQEFG             NaN             NaN             NaN   \n",
       "...                        ...             ...             ...   \n",
       "A19I252AVVFU2S             NaN             NaN             NaN   \n",
       "A19I68RW4PBT29             NaN             NaN             NaN   \n",
       "A19KLUZ1XD3SRN             NaN             NaN             NaN   \n",
       "A19O53R0L0W4O7             NaN             NaN             NaN   \n",
       "A19Q59T3Y3WF1V             NaN             NaN             NaN   \n",
       "\n",
       "user_j          A1098Z3D7ENJ2F  A10DX94ATZQEFG  A10IKHRUSMKP46  \\\n",
       "user_i                                                           \n",
       "A103KWX1QFCG6I             NaN             NaN             NaN   \n",
       "A103M7E0BSFC83             NaN             NaN             NaN   \n",
       "A108M62RB1HTC0             NaN             NaN             NaN   \n",
       "A1098Z3D7ENJ2F             0.0             NaN             NaN   \n",
       "A10DX94ATZQEFG             NaN             0.0             NaN   \n",
       "...                        ...             ...             ...   \n",
       "A19I252AVVFU2S             NaN             NaN             NaN   \n",
       "A19I68RW4PBT29             NaN             NaN             NaN   \n",
       "A19KLUZ1XD3SRN             NaN             NaN             NaN   \n",
       "A19O53R0L0W4O7             NaN             NaN             NaN   \n",
       "A19Q59T3Y3WF1V             NaN             NaN             NaN   \n",
       "\n",
       "user_j          A10LKYQ1D8LPK8  A10PEXB6XAQ5XF  A10RAGCKPARNMI  A10SXQMQBJ2L  \\\n",
       "user_i                                                                         \n",
       "A103KWX1QFCG6I             NaN             NaN             NaN           NaN   \n",
       "A103M7E0BSFC83             NaN             NaN             NaN           NaN   \n",
       "A108M62RB1HTC0             NaN             NaN             NaN           NaN   \n",
       "A1098Z3D7ENJ2F             NaN             NaN             NaN           NaN   \n",
       "A10DX94ATZQEFG             NaN             NaN             NaN           NaN   \n",
       "...                        ...             ...             ...           ...   \n",
       "A19I252AVVFU2S             NaN             NaN             NaN           NaN   \n",
       "A19I68RW4PBT29             NaN             NaN             NaN           NaN   \n",
       "A19KLUZ1XD3SRN             NaN             NaN             NaN           NaN   \n",
       "A19O53R0L0W4O7             NaN             NaN             NaN           NaN   \n",
       "A19Q59T3Y3WF1V             NaN             NaN             NaN           NaN   \n",
       "\n",
       "user_j          ...  AYYIRXRLL0FZF  AZD8SMNGQI98O  AZFENNBSMN980  \\\n",
       "user_i          ...                                                \n",
       "A103KWX1QFCG6I  ...            NaN            NaN            NaN   \n",
       "A103M7E0BSFC83  ...            NaN            NaN            NaN   \n",
       "A108M62RB1HTC0  ...            NaN            NaN            NaN   \n",
       "A1098Z3D7ENJ2F  ...            NaN            NaN            NaN   \n",
       "A10DX94ATZQEFG  ...            NaN            NaN            NaN   \n",
       "...             ...            ...            ...            ...   \n",
       "A19I252AVVFU2S  ...            NaN            NaN            NaN   \n",
       "A19I68RW4PBT29  ...            NaN            NaN            NaN   \n",
       "A19KLUZ1XD3SRN  ...            NaN            NaN            NaN   \n",
       "A19O53R0L0W4O7  ...            NaN            NaN            NaN   \n",
       "A19Q59T3Y3WF1V  ...            NaN            NaN            NaN   \n",
       "\n",
       "user_j          AZGDIB6UL3QNL  AZK12FBX7X7LN  AZPMV1PM3ISSL  AZPXI8VOPVK2E  \\\n",
       "user_i                                                                       \n",
       "A103KWX1QFCG6I            NaN            NaN            NaN            NaN   \n",
       "A103M7E0BSFC83            NaN            NaN            NaN            NaN   \n",
       "A108M62RB1HTC0            NaN            NaN            NaN            NaN   \n",
       "A1098Z3D7ENJ2F            NaN            NaN            NaN            NaN   \n",
       "A10DX94ATZQEFG            NaN            NaN            NaN            NaN   \n",
       "...                       ...            ...            ...            ...   \n",
       "A19I252AVVFU2S            NaN            NaN            NaN            NaN   \n",
       "A19I68RW4PBT29            NaN            NaN            NaN            NaN   \n",
       "A19KLUZ1XD3SRN            NaN            NaN            NaN            NaN   \n",
       "A19O53R0L0W4O7            NaN            NaN            NaN            NaN   \n",
       "A19Q59T3Y3WF1V            NaN            NaN            NaN            NaN   \n",
       "\n",
       "user_j          AZRPAHQG1VHR0  AZTFBJTENKT1T  AZULU4TOTOLEU  \n",
       "user_i                                                       \n",
       "A103KWX1QFCG6I            NaN            NaN            NaN  \n",
       "A103M7E0BSFC83            NaN            NaN            NaN  \n",
       "A108M62RB1HTC0            NaN            NaN            NaN  \n",
       "A1098Z3D7ENJ2F            NaN            NaN            NaN  \n",
       "A10DX94ATZQEFG            NaN            NaN            NaN  \n",
       "...                       ...            ...            ...  \n",
       "A19I252AVVFU2S            NaN            NaN            NaN  \n",
       "A19I68RW4PBT29            NaN            NaN            NaN  \n",
       "A19KLUZ1XD3SRN            NaN            NaN            NaN  \n",
       "A19O53R0L0W4O7            NaN            NaN            NaN  \n",
       "A19Q59T3Y3WF1V            NaN            NaN            NaN  \n",
       "\n",
       "[100 rows x 1542 columns]"
      ]
     },
     "execution_count": 41,
     "metadata": {},
     "output_type": "execute_result"
    }
   ],
   "source": [
    "user_by_user.head(100)"
   ]
  },
  {
   "cell_type": "code",
   "execution_count": 42,
   "metadata": {},
   "outputs": [],
   "source": [
    "# user_by_user['A103KWX1QFCG6I']['A103KWX1QFCG6I']"
   ]
  },
  {
   "cell_type": "code",
   "execution_count": 43,
   "metadata": {
    "scrolled": true
   },
   "outputs": [],
   "source": [
    "# user_by_user.loc['A103KWX1QFCG6I','A108M62RB1HTC0']"
   ]
  },
  {
   "cell_type": "code",
   "execution_count": 44,
   "metadata": {},
   "outputs": [],
   "source": [
    "# reviewer_by_item.reviewerID.iloc[u]"
   ]
  },
  {
   "cell_type": "code",
   "execution_count": 45,
   "metadata": {},
   "outputs": [],
   "source": [
    "# users = np.array(df_reviews.reviewerID.unique())\n",
    "# num_users = len(users)"
   ]
  },
  {
   "cell_type": "code",
   "execution_count": 46,
   "metadata": {},
   "outputs": [],
   "source": [
    "# # Tests\n",
    "# assert reviewer_by_item.shape[1] == df_items.shape[1], 'Oh no!, your matrix should have {} columns, and yours has {}'.format(df_items.shape[0], reviewer_by_item.shape[1])\n",
    "# assert reviewer_by_item.reviewerID.nunique() == reviewer_by_item.shape[0], 'Oh no!, Your matrix should have {} rows, and yours has {}'.format(df_reviews.reviewerID.nunique(), reviewer_by_item.shape[0])\n",
    "# print('All tests passed successfully')"
   ]
  },
  {
   "cell_type": "markdown",
   "metadata": {},
   "source": [
    "## Testing correlation distribution 😁"
   ]
  },
  {
   "cell_type": "code",
   "execution_count": 47,
   "metadata": {},
   "outputs": [
    {
     "name": "stdout",
     "output_type": "stream",
     "text": [
      "A103KWX1QFCG6I\n",
      "A103M7E0BSFC83\n"
     ]
    },
    {
     "data": {
      "text/plain": [
       "0.0"
      ]
     },
     "execution_count": 47,
     "metadata": {},
     "output_type": "execute_result"
    }
   ],
   "source": [
    "user_1 = user_by_user.index[0]\n",
    "user_2 = user_by_user.index[1]\n",
    "\n",
    "print(user_1)\n",
    "print(user_2)\n",
    "compute_correlation_dist(user_1, user_2, items_seen, reviewer_by_item)"
   ]
  },
  {
   "cell_type": "code",
   "execution_count": 48,
   "metadata": {},
   "outputs": [
    {
     "name": "stdout",
     "output_type": "stream",
     "text": [
      "Wall time: 0 ns\n"
     ]
    },
    {
     "data": {
      "text/plain": [
       "0.0"
      ]
     },
     "execution_count": 48,
     "metadata": {},
     "output_type": "execute_result"
    }
   ],
   "source": [
    "%time compute_correlation_dist(\"A103KWX1QFCG6I\", \"A103M7E0BSFC83\", items_seen, reviewer_by_item)"
   ]
  },
  {
   "cell_type": "code",
   "execution_count": 49,
   "metadata": {},
   "outputs": [
    {
     "name": "stdout",
     "output_type": "stream",
     "text": [
      "Wall time: 0 ns\n"
     ]
    },
    {
     "data": {
      "text/plain": [
       "0.0"
      ]
     },
     "execution_count": 49,
     "metadata": {},
     "output_type": "execute_result"
    }
   ],
   "source": [
    "%time compute_correlation_dist(\"A103KWX1QFCG6I\", \"A108M62RB1HTC0\", items_seen, reviewer_by_item)"
   ]
  },
  {
   "cell_type": "code",
   "execution_count": null,
   "metadata": {},
   "outputs": [
    {
     "name": "stderr",
     "output_type": "stream",
     "text": [
      " [Elapsed Time: 0:10:23] |#################                  | (ETA:  0:10:24) \r"
     ]
    }
   ],
   "source": [
    "user_sim_matrix = compute_user_sim_matrix(user_by_user, items_seen, reviewer_by_item)"
   ]
  },
  {
   "cell_type": "code",
   "execution_count": null,
   "metadata": {},
   "outputs": [],
   "source": [
    "user_sim_matrix.head()"
   ]
  },
  {
   "cell_type": "code",
   "execution_count": null,
   "metadata": {},
   "outputs": [],
   "source": [
    "# recommend_items(\"A103KWX1QFCG6I\", df_reviews.reviewerID.unique(), 10)"
   ]
  },
  {
   "cell_type": "code",
   "execution_count": null,
   "metadata": {},
   "outputs": [],
   "source": [
    "# recommend_items(\"A103M7E0BSFC83\", df_reviews.reviewerID.unique(), 10)"
   ]
  },
  {
   "cell_type": "code",
   "execution_count": null,
   "metadata": {},
   "outputs": [],
   "source": [
    "# test[test.reviewerID == \"A103KWX1QFCG6I\"]"
   ]
  },
  {
   "cell_type": "code",
   "execution_count": null,
   "metadata": {},
   "outputs": [],
   "source": [
    "# predict_user_rating(user_id = \"A103KWX1QFCG6I\", item_id = \"1461072484\", user_sim_matrix = user_sim_matrix, reviewer_by_item = reviewer_by_item)"
   ]
  },
  {
   "cell_type": "code",
   "execution_count": null,
   "metadata": {},
   "outputs": [],
   "source": [
    "# user_sim_matrix.loc[\"A103KWX1QFCG6I\"].values.sum()-1"
   ]
  },
  {
   "cell_type": "code",
   "execution_count": null,
   "metadata": {},
   "outputs": [],
   "source": [
    "test_case = test\n",
    "\n",
    "test_case['predicted_rating'] = test_case.apply(lambda x: predict_user_rating(\n",
    "    user_id = x.reviewerID,\n",
    "    item_id = x.asin,\n",
    "    user_sim_matrix = user_sim_matrix,\n",
    "    reviewer_by_item = reviewer_by_item\n",
    "), axis=1)"
   ]
  },
  {
   "cell_type": "code",
   "execution_count": null,
   "metadata": {},
   "outputs": [],
   "source": [
    "test_case.sample(10)"
   ]
  },
  {
   "cell_type": "code",
   "execution_count": null,
   "metadata": {},
   "outputs": [],
   "source": [
    "metrics.mean_squared_error(test_case.rating, test_case.predicted_rating)"
   ]
  },
  {
   "cell_type": "code",
   "execution_count": null,
   "metadata": {},
   "outputs": [],
   "source": [
    "metrics.precision_score(test_case.rating, test_case.predicted_rating.round(), average='micro')"
   ]
  },
  {
   "cell_type": "code",
   "execution_count": null,
   "metadata": {},
   "outputs": [],
   "source": [
    "metrics.recall_score(test_case.rating, test_case.predicted_rating.round(), average='micro')"
   ]
  },
  {
   "cell_type": "code",
   "execution_count": null,
   "metadata": {},
   "outputs": [],
   "source": []
  }
 ],
 "metadata": {
  "kernelspec": {
   "display_name": "Python 3",
   "language": "python",
   "name": "python3"
  },
  "language_info": {
   "codemirror_mode": {
    "name": "ipython",
    "version": 3
   },
   "file_extension": ".py",
   "mimetype": "text/x-python",
   "name": "python",
   "nbconvert_exporter": "python",
   "pygments_lexer": "ipython3",
   "version": "3.7.10"
  }
 },
 "nbformat": 4,
 "nbformat_minor": 2
}
